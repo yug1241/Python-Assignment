{
 "cells": [
  {
   "cell_type": "markdown",
   "id": "264a4abd-f940-4dab-9a9a-d4eb262df099",
   "metadata": {},
   "source": [
    "# 1.Write a NumPy program to create an array with the values 1, 7, 13, 105    and determine the size of the memory occupied by the array.\n"
   ]
  },
  {
   "cell_type": "code",
   "execution_count": 17,
   "id": "ecebf8f3-9309-4899-aa13-0669b1676185",
   "metadata": {},
   "outputs": [],
   "source": [
    "import numpy as np"
   ]
  },
  {
   "cell_type": "code",
   "execution_count": 18,
   "id": "9989f72d-61ef-44a2-9e17-2abeb8c7bd72",
   "metadata": {},
   "outputs": [
    {
     "name": "stdout",
     "output_type": "stream",
     "text": [
      "Size = 4\n"
     ]
    }
   ],
   "source": [
    "arr = np.array([1,7,13,105])\n",
    "print(f\"Size = {arr.size}\")"
   ]
  },
  {
   "cell_type": "markdown",
   "id": "f69c83c3-c0f1-498d-ad35-c9137416d165",
   "metadata": {},
   "source": [
    "# 2. Write a NumPy program to create an element-wise comparison (greater,    greater_equal, less and less_equal) of two given arrays.\n"
   ]
  },
  {
   "cell_type": "code",
   "execution_count": 19,
   "id": "39d8b460-7fe5-4162-b114-9c3b4b598952",
   "metadata": {},
   "outputs": [],
   "source": [
    "def function1():\n",
    "    arr_1=np.array([18,63])\n",
    "    arr_2=np.array([98,12])\n",
    "    print(f\"Greater= {np.greater(arr_1,arr_2)}\")\n",
    "    print(f\"Greater Equal= {np.greater_equal(arr_1,arr_2)}\")\n",
    "    print(f\"Less= {np.less(arr_1,arr_2)}\")\n",
    "    print(f\"Less Equal= {np.less_equal(arr_1,arr_2)}\")"
   ]
  },
  {
   "cell_type": "code",
   "execution_count": 20,
   "id": "031006b6-d75c-4b2c-8d3f-5c0b1aab87c5",
   "metadata": {},
   "outputs": [
    {
     "name": "stdout",
     "output_type": "stream",
     "text": [
      "Greater= [False  True]\n",
      "Greater Equal= [False  True]\n",
      "Less= [ True False]\n",
      "Less Equal= [ True False]\n"
     ]
    }
   ],
   "source": [
    "function1()"
   ]
  },
  {
   "cell_type": "markdown",
   "id": "1e64381b-d152-4931-9cb5-2284c02e0111",
   "metadata": {},
   "source": [
    "# 3.  Write a NumPy program to create an array of 10 zeros, 10 ones, 10    fives, 10 tens, 10 twentys and 10 fiftys."
   ]
  },
  {
   "cell_type": "code",
   "execution_count": 21,
   "id": "216b509e-ab68-4c16-a93c-4b8ed2bef44d",
   "metadata": {},
   "outputs": [],
   "source": [
    "def function2():\n",
    "    arr1=np.zeros(10)\n",
    "    print(arr1)\n",
    "    arr2=np.ones(10)\n",
    "    print(arr2)\n",
    "    arr3=np.ones(10) * 5\n",
    "    print(arr3)\n",
    "    arr4=np.ones(10) * 10\n",
    "    print(arr4)\n",
    "    arr4=np.ones(10) * 20\n",
    "    print(arr4)\n",
    "    arr4=np.ones(10) * 50\n",
    "    print(arr4)\n",
    "    "
   ]
  },
  {
   "cell_type": "code",
   "execution_count": 22,
   "id": "f4c7b146-fe37-4eb9-ab50-ae9bb6c08beb",
   "metadata": {},
   "outputs": [
    {
     "name": "stdout",
     "output_type": "stream",
     "text": [
      "[0. 0. 0. 0. 0. 0. 0. 0. 0. 0.]\n",
      "[1. 1. 1. 1. 1. 1. 1. 1. 1. 1.]\n",
      "[5. 5. 5. 5. 5. 5. 5. 5. 5. 5.]\n",
      "[10. 10. 10. 10. 10. 10. 10. 10. 10. 10.]\n",
      "[20. 20. 20. 20. 20. 20. 20. 20. 20. 20.]\n",
      "[50. 50. 50. 50. 50. 50. 50. 50. 50. 50.]\n"
     ]
    }
   ],
   "source": [
    "function2()"
   ]
  },
  {
   "cell_type": "markdown",
   "id": "b54d60b0-ec15-4db8-8cab-cd12db5e734d",
   "metadata": {},
   "source": [
    "# 4.Write a NumPy program to create an array of integers from 30 to 70."
   ]
  },
  {
   "cell_type": "code",
   "execution_count": 23,
   "id": "f86d3d7a-38e0-447e-97ca-64c307841915",
   "metadata": {},
   "outputs": [
    {
     "name": "stdout",
     "output_type": "stream",
     "text": [
      "[30 31 32 33 34 35 36 37 38 39 40 41 42 43 44 45 46 47 48 49 50 51 52 53\n",
      " 54 55 56 57 58 59 60 61 62 63 64 65 66 67 68 69 70]\n"
     ]
    }
   ],
   "source": [
    "arr=np.arange(30,71)\n",
    "print(arr)"
   ]
  },
  {
   "cell_type": "markdown",
   "id": "7113ed44-555b-4d42-a323-99513b67bcc0",
   "metadata": {},
   "source": [
    "# 5. Write a NumPy program to create an array of integers from 50 to 95."
   ]
  },
  {
   "cell_type": "code",
   "execution_count": 24,
   "id": "9661b2d9-0a1a-4445-a995-47536184aa58",
   "metadata": {},
   "outputs": [
    {
     "name": "stdout",
     "output_type": "stream",
     "text": [
      "[50 51 52 53 54 55 56 57 58 59 60 61 62 63 64 65 66 67 68 69 70 71 72 73\n",
      " 74 75 76 77 78 79 80 81 82 83 84 85 86 87 88 89 90 91 92 93 94 95]\n"
     ]
    }
   ],
   "source": [
    "arr=np.arange(50,96)\n",
    "print(arr)"
   ]
  },
  {
   "cell_type": "markdown",
   "id": "2d60cf1b-4562-4b82-8b60-57501c118518",
   "metadata": {},
   "source": [
    "# 6. Write a NumPy program to create an array of all even integers from 20 to 80."
   ]
  },
  {
   "cell_type": "code",
   "execution_count": 25,
   "id": "18e6d868-0d1c-455a-a716-a7f8f48b5def",
   "metadata": {},
   "outputs": [
    {
     "name": "stdout",
     "output_type": "stream",
     "text": [
      "[20 22 24 26 28 30 32 34 36 38 40 42 44 46 48 50 52 54 56 58 60 62 64 66\n",
      " 68 70 72 74 76 78]\n"
     ]
    }
   ],
   "source": [
    "arr=np.arange(20,80,2)\n",
    "print(arr)"
   ]
  },
  {
   "cell_type": "markdown",
   "id": "ea8a7be4-c307-4857-92fb-40d40a65c7ff",
   "metadata": {},
   "source": [
    "# 7. Write a NumPy program to create an array of all odd integers from 20 to 80."
   ]
  },
  {
   "cell_type": "code",
   "execution_count": 26,
   "id": "28f2efc2-1ab4-49b4-af09-2cb9c1d64cda",
   "metadata": {},
   "outputs": [
    {
     "name": "stdout",
     "output_type": "stream",
     "text": [
      "[21 23 25 27 29 31 33 35 37 39 41 43 45 47 49 51 53 55 57 59 61 63 65 67\n",
      " 69 71 73 75 77 79]\n"
     ]
    }
   ],
   "source": [
    "arr=np.arange(21,80,2)\n",
    "print(arr)"
   ]
  },
  {
   "cell_type": "markdown",
   "id": "425e614b-2ac8-4fa4-8958-a467fd8c49b5",
   "metadata": {},
   "source": [
    "# 8. Write a NumPy program to generate an array of 15 random numbers from 10    to 40.\n"
   ]
  },
  {
   "cell_type": "code",
   "execution_count": 27,
   "id": "f8a7842d-7428-4d8d-bdd6-3e0552d168ec",
   "metadata": {},
   "outputs": [
    {
     "name": "stdout",
     "output_type": "stream",
     "text": [
      "[22 26 26 37 22 28 38 10 23 29 29 18 37 16 23]\n"
     ]
    }
   ],
   "source": [
    "arr=np.random.randint(10,40,15)\n",
    "print(arr)"
   ]
  },
  {
   "cell_type": "markdown",
   "id": "6019c263-6bd6-4a20-a34b-d8d1c06303d6",
   "metadata": {},
   "source": [
    "# 9. Write a NumPy program to generate an array of 10 random numbers from 30    to 50."
   ]
  },
  {
   "cell_type": "code",
   "execution_count": 28,
   "id": "cae71b60-31d5-40e2-b521-58b1ec30b8a6",
   "metadata": {},
   "outputs": [
    {
     "name": "stdout",
     "output_type": "stream",
     "text": [
      "[42 39 46 36 32 33 33 42 48 45]\n"
     ]
    }
   ],
   "source": [
    "arr=np.random.randint(30,50,10)\n",
    "print(arr)"
   ]
  },
  {
   "cell_type": "markdown",
   "id": "ec2f25bd-f18f-4376-b92b-f5b2a34ba2bf",
   "metadata": {},
   "source": [
    "# 10. Write a NumPy program to generate an array of 20 random numbers from 50    to 90.\n"
   ]
  },
  {
   "cell_type": "code",
   "execution_count": 29,
   "id": "38f1395e-925f-48f0-9945-5792f747d8a8",
   "metadata": {},
   "outputs": [
    {
     "name": "stdout",
     "output_type": "stream",
     "text": [
      "[50 58 58 56 70 76 70 51 74 69 85 84 59 67 80 77 53 71 58 75]\n"
     ]
    }
   ],
   "source": [
    "arr=np.random.randint(50,90,20)\n",
    "print(arr)"
   ]
  },
  {
   "cell_type": "markdown",
   "id": "d3bc95f2-bc86-4f7a-8cb0-fc0feeaed095",
   "metadata": {},
   "source": [
    "# 11. Create any two arrays & perform various mathematical operations. i.e. Addition, Substraction, Multiplication, Divide."
   ]
  },
  {
   "cell_type": "code",
   "execution_count": 30,
   "id": "b275599c-4865-45e0-9ea3-789737d2d1fd",
   "metadata": {},
   "outputs": [
    {
     "name": "stdout",
     "output_type": "stream",
     "text": [
      "Addition = [ 9 17]\n",
      "Substraction = [3 9]\n",
      "Multiplication = [18 52]\n",
      "Divide = [2.   3.25]\n"
     ]
    }
   ],
   "source": [
    "arr1=np.array([6,13])\n",
    "arr2=np.array([3,4])\n",
    "print(f\"Addition = {np.add(arr1,arr2)}\")\n",
    "print(f\"Substraction = {(arr1-arr2)}\")\n",
    "print(f\"Multiplication = {(arr1*arr2)}\")\n",
    "print(f\"Divide = {(arr1/arr2)}\")"
   ]
  },
  {
   "cell_type": "markdown",
   "id": "0bf105ea-c9c9-4f82-87cd-446c57fbe1f3",
   "metadata": {},
   "source": [
    "# 12. Write a NumPy program to create a 3x4 matrix filled with values from 10     to 21.\n"
   ]
  },
  {
   "cell_type": "code",
   "execution_count": 38,
   "id": "2a362c5d-4794-43ba-bbed-692ab51e75d7",
   "metadata": {},
   "outputs": [
    {
     "name": "stdout",
     "output_type": "stream",
     "text": [
      "[[10 11 12 13]\n",
      " [14 15 16 17]\n",
      " [18 19 20 21]]\n"
     ]
    }
   ],
   "source": [
    "arr=np.arange(10,22)\n",
    "arr=arr.reshape((3,4))\n",
    "print(arr)"
   ]
  },
  {
   "cell_type": "markdown",
   "id": "29383983-80d2-4c97-b3fd-ce74095a39ec",
   "metadata": {},
   "source": [
    "# 13. Write a NumPy program to create a 3x3 identity matrix, i.e. the diagonal     elements are 1, the rest are 0."
   ]
  },
  {
   "cell_type": "code",
   "execution_count": null,
   "id": "f8bdaffd-0716-4072-b48d-e4244e78ac62",
   "metadata": {},
   "outputs": [],
   "source": []
  },
  {
   "cell_type": "markdown",
   "id": "8cad58ea-6985-45e2-a083-1693779a2a01",
   "metadata": {},
   "source": [
    "# 14. Write a NumPy program to find the number of rows and columns in a given     matrix. \n"
   ]
  },
  {
   "cell_type": "code",
   "execution_count": 39,
   "id": "96a91865-8261-48fc-80d2-3662240c9922",
   "metadata": {},
   "outputs": [
    {
     "name": "stdout",
     "output_type": "stream",
     "text": [
      "[[10 11 12 13]\n",
      " [14 15 16 17]\n",
      " [18 19 20 21]]\n",
      "(3, 4)\n"
     ]
    }
   ],
   "source": [
    "arr=np.arange(10,22)\n",
    "arr=arr.reshape((3,4))\n",
    "print(arr)\n",
    "print(arr.shape)"
   ]
  },
  {
   "cell_type": "markdown",
   "id": "5c50dd0e-2962-4e3e-a7b6-9157cc33098b",
   "metadata": {},
   "source": [
    "# 15. Write a NumPy program to create a 5x5 zero matrix with elements on the main diagonal equal to 1, 2, 3, 4, 5."
   ]
  },
  {
   "cell_type": "code",
   "execution_count": null,
   "id": "dea4a672-747f-4d33-bc00-fa3db8bba212",
   "metadata": {},
   "outputs": [],
   "source": []
  },
  {
   "cell_type": "markdown",
   "id": "fbe4907e-ba3c-45a3-aeef-f4099667b38a",
   "metadata": {},
   "source": [
    "# 16. Write a NumPy program to create a 3x3x3 array filled with arbitrary values."
   ]
  },
  {
   "cell_type": "code",
   "execution_count": 42,
   "id": "a7488299-139b-4cd2-ab03-97cb9c89b259",
   "metadata": {},
   "outputs": [
    {
     "name": "stdout",
     "output_type": "stream",
     "text": [
      "3x3x3 Array: [[[0.02464766 0.93057664 0.14697164]\n",
      "  [0.92131643 0.35825644 0.37872564]\n",
      "  [0.19896509 0.43545163 0.01272006]]\n",
      "\n",
      " [[0.79289021 0.36872916 0.97051456]\n",
      "  [0.04308535 0.94862392 0.92145549]\n",
      "  [0.391957   0.46791493 0.58081158]]\n",
      "\n",
      " [[0.89757166 0.48615667 0.09834991]\n",
      "  [0.54463511 0.54748547 0.31402118]\n",
      "  [0.34124373 0.48769232 0.94163609]]]\n"
     ]
    }
   ],
   "source": [
    "arr=np.random.random((3,3,3))\n",
    "print(f\"3x3x3 Array: {arr}\")"
   ]
  },
  {
   "cell_type": "markdown",
   "id": "232c9c79-bf96-4747-a8b6-bf7800e2c052",
   "metadata": {},
   "source": [
    "# 17. Write a NumPy program to create a 2x3x4 array filled with arbitrary values."
   ]
  },
  {
   "cell_type": "code",
   "execution_count": 44,
   "id": "ac5f3c5e-de68-4eae-bc8f-d6f4befad7f6",
   "metadata": {},
   "outputs": [
    {
     "name": "stdout",
     "output_type": "stream",
     "text": [
      "2x3x4 Array: [[[0.03260395 0.00308946 0.20001323 0.52306965]\n",
      "  [0.99179922 0.54876479 0.91983442 0.03825608]\n",
      "  [0.32564586 0.41489782 0.45604378 0.00204663]]\n",
      "\n",
      " [[0.26067113 0.71740073 0.79410963 0.11495892]\n",
      "  [0.79598765 0.76142253 0.80501028 0.73291997]\n",
      "  [0.89935305 0.27770109 0.00253532 0.73638007]]]\n"
     ]
    }
   ],
   "source": [
    "arr=np.random.random((2,3,4))\n",
    "print(f\"2x3x4 Array: {arr}\")"
   ]
  },
  {
   "cell_type": "markdown",
   "id": "ee7268d8-eae7-45f4-91a0-775d95d49fa6",
   "metadata": {},
   "source": [
    "# 18. Write a NumPy program to convert a list of numeric values into a one-dimensional NumPy array.\n"
   ]
  },
  {
   "cell_type": "code",
   "execution_count": 45,
   "id": "065f1cfc-1b84-4a75-b3e1-b80a8d346c89",
   "metadata": {},
   "outputs": [
    {
     "name": "stdout",
     "output_type": "stream",
     "text": [
      "One-D Array: [12 24 36 48 60]\n"
     ]
    }
   ],
   "source": [
    "list1=[12,24,36,48,60]\n",
    "arr=np.array(list1)\n",
    "print(f\"One-D Array: {arr}\")"
   ]
  },
  {
   "cell_type": "markdown",
   "id": "76874b50-8d9b-4366-8f75-6af5a7de71fc",
   "metadata": {},
   "source": [
    "# 19. Write a NumPy program to create a 3x3 matrix with values ranging from 2  to 10."
   ]
  },
  {
   "cell_type": "code",
   "execution_count": 49,
   "id": "0315a433-cc2c-4e4e-8982-f9e234635575",
   "metadata": {},
   "outputs": [
    {
     "name": "stdout",
     "output_type": "stream",
     "text": [
      "[[ 2  3  4]\n",
      " [ 5  6  7]\n",
      " [ 8  9 10]]\n"
     ]
    }
   ],
   "source": [
    "arr=np.arange(2,11)\n",
    "arr=arr.reshape(3,3)\n",
    "print(arr)"
   ]
  },
  {
   "cell_type": "markdown",
   "id": "ade43fd2-7925-4d1c-9040-a4b751f69ffe",
   "metadata": {},
   "source": [
    "# 20. Write a NumPy program to create an array with values ranging from 12 to 38."
   ]
  },
  {
   "cell_type": "code",
   "execution_count": 32,
   "id": "62080182-ab2c-4477-ad14-dc218d0f0bd9",
   "metadata": {},
   "outputs": [
    {
     "name": "stdout",
     "output_type": "stream",
     "text": [
      "[12 13 14 15 16 17 18 19 20 21 22 23 24 25 26 27 28 29 30 31 32 33 34 35\n",
      " 36 37]\n"
     ]
    }
   ],
   "source": [
    "arr=np.arange(12,38)\n",
    "print(arr)"
   ]
  },
  {
   "cell_type": "markdown",
   "id": "425da916-d15a-40f2-80ae-526c4c3f4aaa",
   "metadata": {},
   "source": [
    "# 21. Write a NumPy program to reverse an array (the first element becomes the last)."
   ]
  },
  {
   "cell_type": "code",
   "execution_count": 33,
   "id": "d7d3278a-d16b-4938-b575-6551653557ef",
   "metadata": {},
   "outputs": [
    {
     "name": "stdout",
     "output_type": "stream",
     "text": [
      "Reverse= [55 44 33 22 11]\n"
     ]
    }
   ],
   "source": [
    "arr=np.array([11,22,33,44,55])\n",
    "print(f\"Reverse= {(arr[::-1])}\")"
   ]
  },
  {
   "cell_type": "markdown",
   "id": "bea0a7ec-4532-4cb8-b118-323e50b73d0d",
   "metadata": {},
   "source": [
    "# 22. Write a NumPy program to convert an data type into to a floating type."
   ]
  },
  {
   "cell_type": "code",
   "execution_count": 50,
   "id": "f8018001-18da-4b0b-a279-4f77df4acf6d",
   "metadata": {},
   "outputs": [
    {
     "name": "stdout",
     "output_type": "stream",
     "text": [
      "Data type into to a  floating type :[1. 2. 3. 4. 5.]\n"
     ]
    }
   ],
   "source": [
    "a = [1, 2, 3, 4, 5]\n",
    "f = np.asfarray(a)\n",
    "print(f\"Data type into to a  floating type :{f}\")"
   ]
  },
  {
   "cell_type": "markdown",
   "id": "e71195b8-2cd7-4882-a587-3944c1f0deaf",
   "metadata": {},
   "source": [
    "# 23. Write a NumPy program to convert a list array."
   ]
  },
  {
   "cell_type": "code",
   "execution_count": 34,
   "id": "84ce8ac1-9a84-458b-8149-2c43bb341626",
   "metadata": {},
   "outputs": [
    {
     "name": "stdout",
     "output_type": "stream",
     "text": [
      "[1 2 3 4 5]\n"
     ]
    }
   ],
   "source": [
    "a = [1, 2, 3, 4, 5]\n",
    "x = np.array(a)\n",
    "print(x)"
   ]
  },
  {
   "cell_type": "markdown",
   "id": "85800b54-ce0b-4e66-8eee-5051eb152d02",
   "metadata": {},
   "source": [
    "# 24. Write a NumPy program to get the element-wise remainder of an array of division."
   ]
  },
  {
   "cell_type": "code",
   "execution_count": 35,
   "id": "784349b5-15f9-4f08-a0e3-0dc9f1d70d1b",
   "metadata": {},
   "outputs": [
    {
     "name": "stdout",
     "output_type": "stream",
     "text": [
      "Remainder= [7 0 5 0]\n"
     ]
    }
   ],
   "source": [
    "arr1=np.array([656,72,890,96])\n",
    "arr2=np.array([11,2,15,16])\n",
    "print(f\"Remainder= {arr1%arr2}\")\n"
   ]
  },
  {
   "cell_type": "markdown",
   "id": "5f7982df-a6f0-4414-a287-d99b97bf5028",
   "metadata": {},
   "source": [
    "# 25.Write a NumPy program to get the element-wise remainder of an array of numbers from 20 to 50 which are divisible by 3."
   ]
  },
  {
   "cell_type": "code",
   "execution_count": 36,
   "id": "33b2bf60-30e6-4ec1-b35b-5dc76e418534",
   "metadata": {},
   "outputs": [
    {
     "name": "stdout",
     "output_type": "stream",
     "text": [
      "Remainder= [2 0 1 2 0 1 2 0 1 2 0 1 2 0 1 2 0 1 2 0 1 2 0 1 2 0 1 2 0 1]\n"
     ]
    }
   ],
   "source": [
    "arr1=np.arange(20,50)\n",
    "print(f\"Remainder= {arr1%3}\")"
   ]
  },
  {
   "cell_type": "code",
   "execution_count": null,
   "id": "dc204b3d-da1d-427c-b899-bfc17cdfbfc2",
   "metadata": {},
   "outputs": [],
   "source": []
  }
 ],
 "metadata": {
  "kernelspec": {
   "display_name": "Python 3 (ipykernel)",
   "language": "python",
   "name": "python3"
  },
  "language_info": {
   "codemirror_mode": {
    "name": "ipython",
    "version": 3
   },
   "file_extension": ".py",
   "mimetype": "text/x-python",
   "name": "python",
   "nbconvert_exporter": "python",
   "pygments_lexer": "ipython3",
   "version": "3.10.12"
  }
 },
 "nbformat": 4,
 "nbformat_minor": 5
}
